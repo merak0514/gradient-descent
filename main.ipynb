{
 "cells": [
  {
   "cell_type": "markdown",
   "source": [
    "# GD\n",
    "\n",
    "导入包，设置随机数种子以及预设值\n"
   ],
   "metadata": {
    "collapsed": false
   }
  },
  {
   "cell_type": "code",
   "execution_count": 1,
   "outputs": [],
   "source": [
    "from numpy.random import seed\n",
    "from data_generator import *\n",
    "from algo import GD, PseudoInverse\n",
    "seed(777)\n",
    "\n",
    "n = 50\n",
    "m = 200  # 200 个数据\n",
    "stop_gap = 0.01  # 停止条件"
   ],
   "metadata": {
    "collapsed": false,
    "pycharm": {
     "name": "#%%\n"
    }
   }
  },
  {
   "cell_type": "markdown",
   "source": [
    "## 生成数据"
   ],
   "metadata": {
    "collapsed": false,
    "pycharm": {
     "name": "#%% md\n"
    }
   }
  },
  {
   "cell_type": "code",
   "execution_count": 2,
   "outputs": [],
   "source": [
    "x_gt = gen_data_x(n)\n",
    "A = gen_data_A(m, n)\n",
    "_b_real = np.matmul(A, x_gt)\n",
    "var_Ax = np.var(_b_real)\n",
    "var_eps = var_Ax / 20\n",
    "eps = gen_data_eps(np.sqrt(var_eps), m)\n",
    "b = _b_real + eps"
   ],
   "metadata": {
    "collapsed": false,
    "pycharm": {
     "name": "#%%\n"
    }
   }
  },
  {
   "cell_type": "markdown",
   "source": [
    "为了验证生成的数据没有问题，我们计算一下`_b_real` 和 `b` 之间的相关性："
   ],
   "metadata": {
    "collapsed": false,
    "pycharm": {
     "name": "#%% md\n"
    }
   }
  },
  {
   "cell_type": "code",
   "execution_count": 3,
   "outputs": [
    {
     "name": "stdout",
     "output_type": "stream",
     "text": [
      "相关性为0.975。\n"
     ]
    }
   ],
   "source": [
    "print(f\"相关性为{compute_corr(_b_real, b):.3f}。\")"
   ],
   "metadata": {
    "collapsed": false,
    "pycharm": {
     "name": "#%%\n"
    }
   }
  },
  {
   "cell_type": "markdown",
   "source": [
    "相关性很好，说明生成的数据和预期差距不大。我们可以继续进行下一步了。\n",
    "## 算法\n",
    "### 回溯直线搜索\n",
    "\n",
    "接着我们来初始化一下Gradient Descent 计算器："
   ],
   "metadata": {
    "collapsed": false,
    "pycharm": {
     "name": "#%% md\n"
    }
   }
  },
  {
   "cell_type": "code",
   "execution_count": 4,
   "outputs": [
    {
     "name": "stdout",
     "output_type": "stream",
     "text": [
      "采用backtracking方法在12步后收敛，\n",
      "耗时0.0057，拟合结果和真实结果的差值的二范数是1.097。\n"
     ]
    }
   ],
   "source": [
    "gd = GD(n=n, m=m, A=A, b=b, x_gt=x_gt, stop_gap=stop_gap, mode=\"backtracking\")\n",
    "x_est = gd.gd()\n",
    "print(f\"采用{gd.mode}方法在{gd.stat_step_count}步后收敛，\\n耗时{gd.stat_time:.4f}，拟合结果和真实结果的差值的二范数是{gd.norm(x_gt, x_est):.3f}。\")"
   ],
   "metadata": {
    "collapsed": false,
    "pycharm": {
     "name": "#%%\n"
    }
   }
  },
  {
   "cell_type": "markdown",
   "source": [
    "接下来绘制 objective value 的变化图："
   ],
   "metadata": {
    "collapsed": false,
    "pycharm": {
     "name": "#%% md\n"
    }
   }
  },
  {
   "cell_type": "code",
   "execution_count": 5,
   "outputs": [
    {
     "data": {
      "text/plain": "<Figure size 432x288 with 1 Axes>",
      "image/png": "[encoded data removed]"
     },
     "metadata": {
      "needs_background": "light"
     },
     "output_type": "display_data"
    }
   ],
   "source": [
    "gd.draw_improves()"
   ],
   "metadata": {
    "collapsed": false,
    "pycharm": {
     "name": "#%%\n"
    }
   }
  },
  {
   "cell_type": "markdown",
   "source": [
    "### 固定步长\n",
    "做法类似，"
   ],
   "metadata": {
    "collapsed": false,
    "pycharm": {
     "name": "#%% md\n"
    }
   }
  },
  {
   "cell_type": "code",
   "execution_count": 6,
   "outputs": [
    {
     "name": "stdout",
     "output_type": "stream",
     "text": [
      "采用fixed方法在39步后收敛，\n",
      "耗时0.0043，拟合结果和真实结果的差值的二范数是1.122。\n"
     ]
    }
   ],
   "source": [
    "gd = GD(n=n, m=m, A=A, b=b, x_gt=x_gt, stop_gap=stop_gap, mode=\"fixed\")\n",
    "x_est = gd.gd()\n",
    "print(f\"采用{gd.mode}方法在{gd.stat_step_count}步后收敛，\\n耗时{gd.stat_time:.4f}，拟合结果和真实结果的差值的二范数是{gd.norm(x_gt, x_est):.3f}。\")"
   ],
   "metadata": {
    "collapsed": false,
    "pycharm": {
     "name": "#%%\n"
    }
   }
  },
  {
   "cell_type": "markdown",
   "source": [
    "接下来绘制 objective value 的变化图："
   ],
   "metadata": {
    "collapsed": false
   }
  },
  {
   "cell_type": "code",
   "execution_count": 7,
   "outputs": [
    {
     "data": {
      "text/plain": "<Figure size 432x288 with 1 Axes>",
      "image/png": "[encoded data removed]"
     },
     "metadata": {
      "needs_background": "light"
     },
     "output_type": "display_data"
    }
   ],
   "source": [
    "gd.draw_improves()"
   ],
   "metadata": {
    "collapsed": false,
    "pycharm": {
     "name": "#%%\n"
    }
   }
  },
  {
   "cell_type": "markdown",
   "source": [
    "## 伪逆法"
   ],
   "metadata": {
    "collapsed": false,
    "pycharm": {
     "name": "#%% md\n"
    }
   }
  },
  {
   "cell_type": "code",
   "execution_count": 8,
   "outputs": [
    {
     "name": "stdout",
     "output_type": "stream",
     "text": [
      "采用求伪逆方法在耗时0.0043，\n",
      "拟合结果和真实结果的差值的二范数是1.097。\n"
     ]
    }
   ],
   "source": [
    "pi = PseudoInverse(n=n, m=m, A=A, b=b, x_gt=x_gt)\n",
    "x_est = pi.compute()\n",
    "print(f\"采用求伪逆方法在耗时{gd.stat_time:.4f}，\\n拟合结果和真实结果的差值的二范数是{gd.norm(x_gt, x_est):.3f}。\")"
   ],
   "metadata": {
    "collapsed": false,
    "pycharm": {
     "name": "#%%\n"
    }
   }
  },
  {
   "cell_type": "markdown",
   "source": [
    "# SGD\n",
    "以 `n=2000` 为例。"
   ],
   "metadata": {
    "collapsed": false,
    "pycharm": {
     "name": "#%% md\n"
    }
   }
  },
  {
   "cell_type": "code",
   "execution_count": 9,
   "outputs": [
    {
     "name": "stdout",
     "output_type": "stream",
     "text": [
      "采用sgd方法在0步后收敛，\n",
      "耗时0.0000，拟合结果和真实结果的差值的二范数是1.203。\n"
     ]
    }
   ],
   "source": [
    "gd = GD(n=n, m=m, A=A, b=b, x_gt=x_gt, stop_gap=stop_gap)\n",
    "x_est = gd.sgd()\n",
    "print(f\"采用sgd方法在{gd.stat_step_count}步后收敛，\\n耗时{gd.stat_time:.4f}，拟合结果和真实结果的差值的二范数是{gd.norm(x_gt, x_est):.3f}。\")"
   ],
   "metadata": {
    "collapsed": false,
    "pycharm": {
     "name": "#%%\n"
    }
   }
  }
 ],
 "metadata": {
  "kernelspec": {
   "name": "pycharm-50b508ae",
   "language": "python",
   "display_name": "PyCharm (51_optim_gradient_descent)"
  },
  "language_info": {
   "codemirror_mode": {
    "name": "ipython",
    "version": 2
   },
   "file_extension": ".py",
   "mimetype": "text/x-python",
   "name": "python",
   "nbconvert_exporter": "python",
   "pygments_lexer": "ipython2",
   "version": "2.7.6"
  }
 },
 "nbformat": 4,
 "nbformat_minor": 0
}