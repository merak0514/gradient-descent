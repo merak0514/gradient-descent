{
 "cells": [
  {
   "cell_type": "markdown",
   "source": [
    "# GD\n",
    "\n",
    "导入包，设置随机数种子以及预设值\n"
   ],
   "metadata": {
    "collapsed": false
   }
  },
  {
   "cell_type": "code",
   "execution_count": 1,
   "outputs": [],
   "source": [
    "from numpy.random import seed\n",
    "from data_generator import *\n",
    "from algo import GD\n",
    "seed(777)\n",
    "\n",
    "n = 50\n",
    "m = 200  # 200 个数据\n",
    "stopping_gap = 0.01  # 停止条件"
   ],
   "metadata": {
    "collapsed": false,
    "pycharm": {
     "name": "#%%\n"
    }
   }
  },
  {
   "cell_type": "markdown",
   "source": [
    "## 生成数据"
   ],
   "metadata": {
    "collapsed": false,
    "pycharm": {
     "name": "#%% md\n"
    }
   }
  },
  {
   "cell_type": "code",
   "execution_count": 2,
   "outputs": [],
   "source": [
    "x_gt = gen_data_x(n)\n",
    "A = gen_data_A(m, n)\n",
    "_b_real = np.matmul(A, x_gt)\n",
    "var_Ax = np.var(_b_real)\n",
    "var_eps = var_Ax / 20\n",
    "eps = gen_data_eps(np.sqrt(var_eps), m)\n",
    "b = _b_real + eps"
   ],
   "metadata": {
    "collapsed": false,
    "pycharm": {
     "name": "#%%\n"
    }
   }
  },
  {
   "cell_type": "markdown",
   "source": [
    "为了验证生成的数据没有问题，我们计算一下`_b_real` 和 `b` 之间的相关性："
   ],
   "metadata": {
    "collapsed": false,
    "pycharm": {
     "name": "#%% md\n"
    }
   }
  },
  {
   "cell_type": "code",
   "execution_count": 3,
   "outputs": [
    {
     "name": "stdout",
     "output_type": "stream",
     "text": [
      "相关性为0.9754983699236708\n"
     ]
    }
   ],
   "source": [
    "print(f\"相关性为{compute_corr(_b_real, b)}\")"
   ],
   "metadata": {
    "collapsed": false,
    "pycharm": {
     "name": "#%%\n"
    }
   }
  },
  {
   "cell_type": "markdown",
   "source": [
    "相关性很好，说明生成的数据和预期差距不大。\n",
    "\n",
    "接着我们来初始化一下Gradient Descent 计算器："
   ],
   "metadata": {
    "collapsed": false,
    "pycharm": {
     "name": "#%% md\n"
    }
   }
  },
  {
   "cell_type": "code",
   "execution_count": 5,
   "outputs": [
    {
     "name": "stdout",
     "output_type": "stream",
     "text": [
      "拟合结果和真实结果的差值的二范数是1.0974930290324392\n"
     ]
    }
   ],
   "source": [
    "gd = GD(n=n, m=m, A=A, b=b, x_gt=x_gt, stopping_gap=stopping_gap)\n",
    "x_est = gd.gd()\n",
    "print(f\"拟合结果和真实结果的差值的二范数是{gd.norm(x_gt, x_est)}\")"
   ],
   "metadata": {
    "collapsed": false,
    "pycharm": {
     "name": "#%%\n"
    }
   }
  },
  {
   "cell_type": "code",
   "execution_count": 4,
   "outputs": [],
   "source": [],
   "metadata": {
    "collapsed": false,
    "pycharm": {
     "name": "#%%\n"
    }
   }
  }
 ],
 "metadata": {
  "kernelspec": {
   "name": "pycharm-50b508ae",
   "language": "python",
   "display_name": "PyCharm (51_optim_gradient_descent)"
  },
  "language_info": {
   "codemirror_mode": {
    "name": "ipython",
    "version": 2
   },
   "file_extension": ".py",
   "mimetype": "text/x-python",
   "name": "python",
   "nbconvert_exporter": "python",
   "pygments_lexer": "ipython2",
   "version": "2.7.6"
  }
 },
 "nbformat": 4,
 "nbformat_minor": 0
}